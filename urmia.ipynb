{
 "cells": [
  {
   "cell_type": "code",
   "execution_count": 9,
   "metadata": {},
   "outputs": [],
   "source": [
    "from selenium import webdriver\n",
    "import keyboard\n",
    "import time\n",
    "from tqdm import tqdm"
   ]
  },
  {
   "cell_type": "code",
   "execution_count": 3,
   "metadata": {},
   "outputs": [],
   "source": [
    "chrome_options = webdriver.ChromeOptions()\n",
    "chrome_options.add_argument(\"--window-size=1920,1080\")\n",
    "chrome_options.add_argument(\"--disable-extensions\")\n",
    "chrome_options.add_argument(\"--proxy-server='direct://'\")\n",
    "chrome_options.add_argument(\"--proxy-bypass-list=*\")\n",
    "chrome_options.add_argument(\"--start-maximized\")\n",
    "chrome_options.add_argument('--headless')\n",
    "chrome_options.add_argument('--disable-gpu')\n",
    "chrome_options.add_argument('--disable-dev-shm-usage')\n",
    "chrome_options.add_argument('--no-sandbox')\n",
    "chrome_options.add_argument('--ignore-certificate-errors')\n",
    "browser = webdriver.Chrome(options=chrome_options)"
   ]
  },
  {
   "cell_type": "code",
   "execution_count": 4,
   "metadata": {},
   "outputs": [],
   "source": [
    "# adv = browser.find_element_by_xpath('''//*[@id=\"details-button\"]''')\n",
    "# adv.click()\n",
    "# proc = browser.find_element_by_xpath('''//*[@id=\"proceed-link\"]''')\n",
    "# proc.click()\n",
    "\n",
    "def internet1():\n",
    "    browser.get(\"http://gate1.urmia.ac.ir:8090/\")\n",
    "    \n",
    "    user = browser.find_element_by_xpath('''//*[@id=\"username\"]''')\n",
    "    user.send_keys(\"a.jabbary\")\n",
    "    \n",
    "    psw = browser.find_element_by_xpath('''//*[@id=\"password\"]''')\n",
    "    psw.send_keys(\"66263674Ax!\")\n",
    "    \n",
    "    login = browser.find_element_by_xpath('''//*[@id=\"loginbutton\"]''')\n",
    "    login.click()"
   ]
  },
  {
   "cell_type": "code",
   "execution_count": 5,
   "metadata": {},
   "outputs": [],
   "source": [
    "internet1()"
   ]
  },
  {
   "cell_type": "code",
   "execution_count": 6,
   "metadata": {},
   "outputs": [],
   "source": [
    "browser.switch_to.window(browser.window_handles[0])"
   ]
  },
  {
   "cell_type": "code",
   "execution_count": 7,
   "metadata": {},
   "outputs": [],
   "source": [
    "def internet():\n",
    "    browser.switch_to.window(browser.window_handles[0])\n",
    "    \n",
    "    browser.get(\"http://gate1.urmia.ac.ir:8090/\")\n",
    "\n",
    "    user = browser.find_element_by_xpath('''//*[@id=\"username\"]''')\n",
    "    user.send_keys(\"a.jabbary\")\n",
    "\n",
    "    psw = browser.find_element_by_xpath('''//*[@id=\"password\"]''')\n",
    "    psw.send_keys(\"66263674Ax!\")\n",
    "\n",
    "    login = browser.find_element_by_xpath('''//*[@id=\"loginbutton\"]''')\n",
    "    login.click()"
   ]
  },
  {
   "cell_type": "code",
   "execution_count": null,
   "metadata": {},
   "outputs": [
    {
     "name": "stderr",
     "output_type": "stream",
     "text": [
      "  1%|▍                                                                           | 57/10000 [11:12<84:35:30, 30.63s/it]"
     ]
    }
   ],
   "source": [
    "for i in tqdm(range(10000)):\n",
    "    browser.close()\n",
    "    internet()\n",
    "    time.sleep(5)"
   ]
  },
  {
   "cell_type": "code",
   "execution_count": 7,
   "metadata": {},
   "outputs": [
    {
     "name": "stdout",
     "output_type": "stream",
     "text": [
      "False\n"
     ]
    }
   ],
   "source": [
    "print(keyboard.is_pressed('ctrl'))"
   ]
  },
  {
   "cell_type": "code",
   "execution_count": null,
   "metadata": {},
   "outputs": [],
   "source": []
  }
 ],
 "metadata": {
  "kernelspec": {
   "display_name": "Python 3",
   "language": "python",
   "name": "python3"
  },
  "language_info": {
   "codemirror_mode": {
    "name": "ipython",
    "version": 3
   },
   "file_extension": ".py",
   "mimetype": "text/x-python",
   "name": "python",
   "nbconvert_exporter": "python",
   "pygments_lexer": "ipython3",
   "version": "3.9.0"
  }
 },
 "nbformat": 4,
 "nbformat_minor": 4
}
